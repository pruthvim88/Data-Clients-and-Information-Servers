{
 "cells": [
  {
   "cell_type": "code",
   "execution_count": 2,
   "metadata": {
    "collapsed": false
   },
   "outputs": [
    {
     "name": "stdout",
     "output_type": "stream",
     "text": [
      "package 'twitteR' successfully unpacked and MD5 sums checked\n",
      "\n",
      "The downloaded binary packages are in\n",
      "\tC:\\Users\\Admin\\AppData\\Local\\Temp\\Rtmpaip7Jb\\downloaded_packages\n"
     ]
    }
   ],
   "source": [
    "#Installing Twitter Packages\n",
    "install.packages(\"twitteR\",repos = \"http://cran.us.r-project.org\")\n",
    "library(\"twitteR\")\n",
    "require(\"twitteR\")"
   ]
  },
  {
   "cell_type": "code",
   "execution_count": 3,
   "metadata": {
    "collapsed": false
   },
   "outputs": [
    {
     "name": "stdout",
     "output_type": "stream",
     "text": [
      "[1] \"Using direct authentication\"\n"
     ]
    }
   ],
   "source": [
    "#Twitter Authentication\n",
    "api_key <- \"alEJkwQJQjs6SHXWbsTmQcUI9\"\n",
    "api_secret <- \"Je1LkjkBhpzsB6GASw7xUHsfvSA9rCVz0is80HVMccDbnQsKV1\"\n",
    "access_token <- \"139005952-gQJeEIEmw4e9jgnwb6D7KDjh7KuS9sjRkzUsruiN\"\n",
    "access_token_secret <- \"vE8dEULqlRH2EM0hZZiFIzWQXoHEIiC9wF0arPdSXgAg7\"\n",
    "setup_twitter_oauth(api_key,api_secret,access_token,access_token_secret)"
   ]
  },
  {
   "cell_type": "code",
   "execution_count": 4,
   "metadata": {
    "collapsed": false
   },
   "outputs": [
    {
     "name": "stderr",
     "output_type": "stream",
     "text": [
      "Loading required package: ggplot2\n"
     ]
    }
   ],
   "source": [
    "#Importing the required packages\n",
    "library(ggmap)"
   ]
  },
  {
   "cell_type": "code",
   "execution_count": 32,
   "metadata": {
    "collapsed": true
   },
   "outputs": [],
   "source": [
    "#Give the input over here as the variable location\n",
    "location <- \"Buffalo\" "
   ]
  },
  {
   "cell_type": "code",
   "execution_count": 33,
   "metadata": {
    "collapsed": true
   },
   "outputs": [],
   "source": [
    "#Converting to lowercase\n",
    "locationlc <- tolower(location)"
   ]
  },
  {
   "cell_type": "code",
   "execution_count": 34,
   "metadata": {
    "collapsed": false
   },
   "outputs": [
    {
     "name": "stderr",
     "output_type": "stream",
     "text": [
      "Information from URL : http://maps.googleapis.com/maps/api/geocode/json?address=buffalo&sensor=false\n"
     ]
    }
   ],
   "source": [
    "#Obtaining the lat long of the location\n",
    "input <- geocode(locationlc)"
   ]
  },
  {
   "cell_type": "code",
   "execution_count": 35,
   "metadata": {
    "collapsed": false
   },
   "outputs": [],
   "source": [
    "#Get the information of the location closest to the input locations lat long \n",
    "latlong<-closestTrendLocations(input$lat,input$lon)"
   ]
  },
  {
   "cell_type": "code",
   "execution_count": 37,
   "metadata": {
    "collapsed": false
   },
   "outputs": [],
   "source": [
    "#Obtain the Where on Earth Id of the location closest to the input's location\n",
    "woe<-latlong$woeid\n"
   ]
  },
  {
   "cell_type": "code",
   "execution_count": 38,
   "metadata": {
    "collapsed": false
   },
   "outputs": [
    {
     "data": {
      "text/html": [
       "<table>\n",
       "<thead><tr><th scope=col>name</th><th scope=col>url</th><th scope=col>query</th><th scope=col>woeid</th></tr></thead>\n",
       "<tbody>\n",
       "\t<tr><td>#RandomActsOfKindnessDay                                  </td><td>http://twitter.com/search?q=%23RandomActsOfKindnessDay    </td><td>%23RandomActsOfKindnessDay                                </td><td>4118                                                      </td></tr>\n",
       "\t<tr><td>#FamilyDay                                                </td><td>http://twitter.com/search?q=%23FamilyDay                  </td><td>%23FamilyDay                                              </td><td>4118                                                      </td></tr>\n",
       "\t<tr><td>#FridayFeeling                                            </td><td>http://twitter.com/search?q=%23FridayFeeling              </td><td>%23FridayFeeling                                          </td><td>4118                                                      </td></tr>\n",
       "\t<tr><td>#NBAAllStar                                               </td><td>http://twitter.com/search?q=%23NBAAllStar                 </td><td>%23NBAAllStar                                             </td><td>4118                                                      </td></tr>\n",
       "\t<tr><td>Nathan                                                    </td><td>http://twitter.com/search?q=Nathan                        </td><td>Nathan                                                    </td><td>4118                                                      </td></tr>\n",
       "\t<tr><td>Mitch Marner                                              </td><td>http://twitter.com/search?q=%22Mitch+Marner%22            </td><td>%22Mitch+Marner%22                                        </td><td>4118                                                      </td></tr>\n",
       "\t<tr><td>#TIFFNextWave                                             </td><td>http://twitter.com/search?q=%23TIFFNextWave               </td><td>%23TIFFNextWave                                           </td><td>4118                                                      </td></tr>\n",
       "\t<tr><td>National Guard                                            </td><td>http://twitter.com/search?q=%22National+Guard%22          </td><td>%22National+Guard%22                                      </td><td>4118                                                      </td></tr>\n",
       "\t<tr><td>The Animal                                                </td><td>http://twitter.com/search?q=%22The+Animal%22              </td><td>%22The+Animal%22                                          </td><td>4118                                                      </td></tr>\n",
       "\t<tr><td>Boeing                                                    </td><td>http://twitter.com/search?q=Boeing                        </td><td>Boeing                                                    </td><td>4118                                                      </td></tr>\n",
       "\t<tr><td>Parker                                                    </td><td>http://twitter.com/search?q=Parker                        </td><td>Parker                                                    </td><td>4118                                                      </td></tr>\n",
       "\t<tr><td>Scott Pruitt                                              </td><td>http://twitter.com/search?q=%22Scott+Pruitt%22            </td><td>%22Scott+Pruitt%22                                        </td><td>4118                                                      </td></tr>\n",
       "\t<tr><td>Charbonneau                                               </td><td>http://twitter.com/search?q=Charbonneau                   </td><td>Charbonneau                                               </td><td>4118                                                      </td></tr>\n",
       "\t<tr><td>Lake Scugog                                               </td><td>http://twitter.com/search?q=%22Lake+Scugog%22             </td><td>%22Lake+Scugog%22                                         </td><td>4118                                                      </td></tr>\n",
       "\t<tr><td>Devontay Hackett                                          </td><td>http://twitter.com/search?q=%22Devontay+Hackett%22        </td><td>%22Devontay+Hackett%22                                    </td><td>4118                                                      </td></tr>\n",
       "\t<tr><td>Moodie                                                    </td><td>http://twitter.com/search?q=Moodie                        </td><td>Moodie                                                    </td><td>4118                                                      </td></tr>\n",
       "\t<tr><td>Province House                                            </td><td>http://twitter.com/search?q=%22Province+House%22          </td><td>%22Province+House%22                                      </td><td>4118                                                      </td></tr>\n",
       "\t<tr><td>La Meute                                                  </td><td>http://twitter.com/search?q=%22La+Meute%22                </td><td>%22La+Meute%22                                            </td><td>4118                                                      </td></tr>\n",
       "\t<tr><td>Michael Jordan                                            </td><td>http://twitter.com/search?q=%22Michael+Jordan%22          </td><td>%22Michael+Jordan%22                                      </td><td>4118                                                      </td></tr>\n",
       "\t<tr><td>Merkel                                                    </td><td>http://twitter.com/search?q=Merkel                        </td><td>Merkel                                                    </td><td>4118                                                      </td></tr>\n",
       "\t<tr><td>Bartkowski                                                </td><td>http://twitter.com/search?q=Bartkowski                    </td><td>Bartkowski                                                </td><td>4118                                                      </td></tr>\n",
       "\t<tr><td>Corner Brook                                              </td><td>http://twitter.com/search?q=%22Corner+Brook%22            </td><td>%22Corner+Brook%22                                        </td><td>4118                                                      </td></tr>\n",
       "\t<tr><td>Sidney Crosby                                             </td><td>http://twitter.com/search?q=%22Sidney+Crosby%22           </td><td>%22Sidney+Crosby%22                                       </td><td>4118                                                      </td></tr>\n",
       "\t<tr><td>Stuart McLean                                             </td><td>http://twitter.com/search?q=%22Stuart+McLean%22           </td><td>%22Stuart+McLean%22                                       </td><td>4118                                                      </td></tr>\n",
       "\t<tr><td>Manning                                                   </td><td>http://twitter.com/search?q=Manning                       </td><td>Manning                                                   </td><td>4118                                                      </td></tr>\n",
       "\t<tr><td>Gérard Bouchard                                           </td><td>http://twitter.com/search?q=%22G%C3%A9rard+Bouchard%22    </td><td>%22G%C3%A9rard+Bouchard%22                                </td><td>4118                                                      </td></tr>\n",
       "\t<tr><td>Flyers                                                    </td><td>http://twitter.com/search?q=Flyers                        </td><td>Flyers                                                    </td><td>4118                                                      </td></tr>\n",
       "\t<tr><td>#DayofFacts                                               </td><td>http://twitter.com/search?q=%23DayofFacts                 </td><td>%23DayofFacts                                             </td><td>4118                                                      </td></tr>\n",
       "\t<tr><td>#Change2LettersRuinAFilm                                  </td><td>http://twitter.com/search?q=%23Change2LettersRuinAFilm    </td><td>%23Change2LettersRuinAFilm                                </td><td>4118                                                      </td></tr>\n",
       "\t<tr><td>#fcledu                                                   </td><td>http://twitter.com/search?q=%23fcledu                     </td><td>%23fcledu                                                 </td><td>4118                                                      </td></tr>\n",
       "\t<tr><td>#BadgeBC                                                  </td><td>http://twitter.com/search?q=%23BadgeBC                    </td><td>%23BadgeBC                                                </td><td>4118                                                      </td></tr>\n",
       "\t<tr><td>#RVNMO                                                    </td><td>http://twitter.com/search?q=%23RVNMO                      </td><td>%23RVNMO                                                  </td><td>4118                                                      </td></tr>\n",
       "\t<tr><td>#VWAutoshow                                               </td><td>http://twitter.com/search?q=%23VWAutoshow                 </td><td>%23VWAutoshow                                             </td><td>4118                                                      </td></tr>\n",
       "\t<tr><td>#FlashbackFriday                                          </td><td>http://twitter.com/search?q=%23FlashbackFriday            </td><td>%23FlashbackFriday                                        </td><td>4118                                                      </td></tr>\n",
       "\t<tr><td>#friyay                                                   </td><td>http://twitter.com/search?q=%23friyay                     </td><td>%23friyay                                                 </td><td>4118                                                      </td></tr>\n",
       "\t<tr><td>#GARTHinedmonton                                          </td><td>http://twitter.com/search?q=%23GARTHinedmonton            </td><td>%23GARTHinedmonton                                        </td><td>4118                                                      </td></tr>\n",
       "\t<tr><td>#overdose                                                 </td><td>http://twitter.com/search?q=%23overdose                   </td><td>%23overdose                                               </td><td>4118                                                      </td></tr>\n",
       "\t<tr><td>#Getaway                                                  </td><td>http://twitter.com/search?q=%23Getaway                    </td><td>%23Getaway                                                </td><td>4118                                                      </td></tr>\n",
       "\t<tr><td>#OrderOfCanada                                            </td><td>http://twitter.com/search?q=%23OrderOfCanada              </td><td>%23OrderOfCanada                                          </td><td>4118                                                      </td></tr>\n",
       "\t<tr><td>#weekend                                                  </td><td>http://twitter.com/search?q=%23weekend                    </td><td>%23weekend                                                </td><td>4118                                                      </td></tr>\n",
       "\t<tr><td>#MediaLiesAgain                                           </td><td>http://twitter.com/search?q=%23MediaLiesAgain             </td><td>%23MediaLiesAgain                                         </td><td>4118                                                      </td></tr>\n",
       "\t<tr><td>#CdnAgDay                                                 </td><td>http://twitter.com/search?q=%23CdnAgDay                   </td><td>%23CdnAgDay                                               </td><td>4118                                                      </td></tr>\n",
       "\t<tr><td>#PresidentialTVShows                                      </td><td>http://twitter.com/search?q=%23PresidentialTVShows        </td><td>%23PresidentialTVShows                                    </td><td>4118                                                      </td></tr>\n",
       "\t<tr><td>#TrumpPresser                                             </td><td>http://twitter.com/search?q=%23TrumpPresser               </td><td>%23TrumpPresser                                           </td><td>4118                                                      </td></tr>\n",
       "\t<tr><td>#M103                                                     </td><td>http://twitter.com/search?q=%23M103                       </td><td>%23M103                                                   </td><td>4118                                                      </td></tr>\n",
       "\t<tr><td>#WinterShakeUp                                            </td><td>http://twitter.com/search?q=%23WinterShakeUp              </td><td>%23WinterShakeUp                                          </td><td>4118                                                      </td></tr>\n",
       "\t<tr><td>#PokemonGO                                                </td><td>http://twitter.com/search?q=%23PokemonGO                  </td><td>%23PokemonGO                                              </td><td>4118                                                      </td></tr>\n",
       "\t<tr><td>#hurtbae                                                  </td><td>http://twitter.com/search?q=%23hurtbae                    </td><td>%23hurtbae                                                </td><td>4118                                                      </td></tr>\n",
       "\t<tr><td>#STOH2017                                                 </td><td>http://twitter.com/search?q=%23STOH2017                   </td><td>%23STOH2017                                               </td><td>4118                                                      </td></tr>\n",
       "\t<tr><td>#SillyQuestionsIWantAnswered                              </td><td>http://twitter.com/search?q=%23SillyQuestionsIWantAnswered</td><td>%23SillyQuestionsIWantAnswered                            </td><td>4118                                                      </td></tr>\n",
       "</tbody>\n",
       "</table>\n"
      ],
      "text/latex": [
       "\\begin{tabular}{r|llll}\n",
       " name & url & query & woeid\\\\\n",
       "\\hline\n",
       "\t \\#RandomActsOfKindnessDay                                   & http://twitter.com/search?q=\\%23RandomActsOfKindnessDay     & \\%23RandomActsOfKindnessDay                                 & 4118                                                        \\\\\n",
       "\t \\#FamilyDay                                                 & http://twitter.com/search?q=\\%23FamilyDay                   & \\%23FamilyDay                                               & 4118                                                        \\\\\n",
       "\t \\#FridayFeeling                                             & http://twitter.com/search?q=\\%23FridayFeeling               & \\%23FridayFeeling                                           & 4118                                                        \\\\\n",
       "\t \\#NBAAllStar                                                & http://twitter.com/search?q=\\%23NBAAllStar                  & \\%23NBAAllStar                                              & 4118                                                        \\\\\n",
       "\t Nathan                                                     & http://twitter.com/search?q=Nathan                         & Nathan                                                     & 4118                                                      \\\\\n",
       "\t Mitch Marner                                                   & http://twitter.com/search?q=\\%22Mitch+Marner\\%22             & \\%22Mitch+Marner\\%22                                         & 4118                                                          \\\\\n",
       "\t \\#TIFFNextWave                                              & http://twitter.com/search?q=\\%23TIFFNextWave                & \\%23TIFFNextWave                                            & 4118                                                        \\\\\n",
       "\t National Guard                                                 & http://twitter.com/search?q=\\%22National+Guard\\%22           & \\%22National+Guard\\%22                                       & 4118                                                          \\\\\n",
       "\t The Animal                                                     & http://twitter.com/search?q=\\%22The+Animal\\%22               & \\%22The+Animal\\%22                                           & 4118                                                          \\\\\n",
       "\t Boeing                                                     & http://twitter.com/search?q=Boeing                         & Boeing                                                     & 4118                                                      \\\\\n",
       "\t Parker                                                     & http://twitter.com/search?q=Parker                         & Parker                                                     & 4118                                                      \\\\\n",
       "\t Scott Pruitt                                                   & http://twitter.com/search?q=\\%22Scott+Pruitt\\%22             & \\%22Scott+Pruitt\\%22                                         & 4118                                                          \\\\\n",
       "\t Charbonneau                                                & http://twitter.com/search?q=Charbonneau                    & Charbonneau                                                & 4118                                                      \\\\\n",
       "\t Lake Scugog                                                    & http://twitter.com/search?q=\\%22Lake+Scugog\\%22              & \\%22Lake+Scugog\\%22                                          & 4118                                                          \\\\\n",
       "\t Devontay Hackett                                               & http://twitter.com/search?q=\\%22Devontay+Hackett\\%22         & \\%22Devontay+Hackett\\%22                                     & 4118                                                          \\\\\n",
       "\t Moodie                                                     & http://twitter.com/search?q=Moodie                         & Moodie                                                     & 4118                                                      \\\\\n",
       "\t Province House                                                 & http://twitter.com/search?q=\\%22Province+House\\%22           & \\%22Province+House\\%22                                       & 4118                                                          \\\\\n",
       "\t La Meute                                                       & http://twitter.com/search?q=\\%22La+Meute\\%22                 & \\%22La+Meute\\%22                                             & 4118                                                          \\\\\n",
       "\t Michael Jordan                                                 & http://twitter.com/search?q=\\%22Michael+Jordan\\%22           & \\%22Michael+Jordan\\%22                                       & 4118                                                          \\\\\n",
       "\t Merkel                                                     & http://twitter.com/search?q=Merkel                         & Merkel                                                     & 4118                                                      \\\\\n",
       "\t Bartkowski                                                 & http://twitter.com/search?q=Bartkowski                     & Bartkowski                                                 & 4118                                                      \\\\\n",
       "\t Corner Brook                                                   & http://twitter.com/search?q=\\%22Corner+Brook\\%22             & \\%22Corner+Brook\\%22                                         & 4118                                                          \\\\\n",
       "\t Sidney Crosby                                                  & http://twitter.com/search?q=\\%22Sidney+Crosby\\%22            & \\%22Sidney+Crosby\\%22                                        & 4118                                                          \\\\\n",
       "\t Stuart McLean                                                  & http://twitter.com/search?q=\\%22Stuart+McLean\\%22            & \\%22Stuart+McLean\\%22                                        & 4118                                                          \\\\\n",
       "\t Manning                                                    & http://twitter.com/search?q=Manning                        & Manning                                                    & 4118                                                      \\\\\n",
       "\t Gérard Bouchard                                                    & http://twitter.com/search?q=\\%22G\\%C3\\%A9rard+Bouchard\\%22     & \\%22G\\%C3\\%A9rard+Bouchard\\%22                                 & 4118                                                              \\\\\n",
       "\t Flyers                                                     & http://twitter.com/search?q=Flyers                         & Flyers                                                     & 4118                                                      \\\\\n",
       "\t \\#DayofFacts                                                & http://twitter.com/search?q=\\%23DayofFacts                  & \\%23DayofFacts                                              & 4118                                                        \\\\\n",
       "\t \\#Change2LettersRuinAFilm                                   & http://twitter.com/search?q=\\%23Change2LettersRuinAFilm     & \\%23Change2LettersRuinAFilm                                 & 4118                                                        \\\\\n",
       "\t \\#fcledu                                                    & http://twitter.com/search?q=\\%23fcledu                      & \\%23fcledu                                                  & 4118                                                        \\\\\n",
       "\t \\#BadgeBC                                                   & http://twitter.com/search?q=\\%23BadgeBC                     & \\%23BadgeBC                                                 & 4118                                                        \\\\\n",
       "\t \\#RVNMO                                                     & http://twitter.com/search?q=\\%23RVNMO                       & \\%23RVNMO                                                   & 4118                                                        \\\\\n",
       "\t \\#VWAutoshow                                                & http://twitter.com/search?q=\\%23VWAutoshow                  & \\%23VWAutoshow                                              & 4118                                                        \\\\\n",
       "\t \\#FlashbackFriday                                           & http://twitter.com/search?q=\\%23FlashbackFriday             & \\%23FlashbackFriday                                         & 4118                                                        \\\\\n",
       "\t \\#friyay                                                    & http://twitter.com/search?q=\\%23friyay                      & \\%23friyay                                                  & 4118                                                        \\\\\n",
       "\t \\#GARTHinedmonton                                           & http://twitter.com/search?q=\\%23GARTHinedmonton             & \\%23GARTHinedmonton                                         & 4118                                                        \\\\\n",
       "\t \\#overdose                                                  & http://twitter.com/search?q=\\%23overdose                    & \\%23overdose                                                & 4118                                                        \\\\\n",
       "\t \\#Getaway                                                   & http://twitter.com/search?q=\\%23Getaway                     & \\%23Getaway                                                 & 4118                                                        \\\\\n",
       "\t \\#OrderOfCanada                                             & http://twitter.com/search?q=\\%23OrderOfCanada               & \\%23OrderOfCanada                                           & 4118                                                        \\\\\n",
       "\t \\#weekend                                                   & http://twitter.com/search?q=\\%23weekend                     & \\%23weekend                                                 & 4118                                                        \\\\\n",
       "\t \\#MediaLiesAgain                                            & http://twitter.com/search?q=\\%23MediaLiesAgain              & \\%23MediaLiesAgain                                          & 4118                                                        \\\\\n",
       "\t \\#CdnAgDay                                                  & http://twitter.com/search?q=\\%23CdnAgDay                    & \\%23CdnAgDay                                                & 4118                                                        \\\\\n",
       "\t \\#PresidentialTVShows                                       & http://twitter.com/search?q=\\%23PresidentialTVShows         & \\%23PresidentialTVShows                                     & 4118                                                        \\\\\n",
       "\t \\#TrumpPresser                                              & http://twitter.com/search?q=\\%23TrumpPresser                & \\%23TrumpPresser                                            & 4118                                                        \\\\\n",
       "\t \\#M103                                                      & http://twitter.com/search?q=\\%23M103                        & \\%23M103                                                    & 4118                                                        \\\\\n",
       "\t \\#WinterShakeUp                                             & http://twitter.com/search?q=\\%23WinterShakeUp               & \\%23WinterShakeUp                                           & 4118                                                        \\\\\n",
       "\t \\#PokemonGO                                                 & http://twitter.com/search?q=\\%23PokemonGO                   & \\%23PokemonGO                                               & 4118                                                        \\\\\n",
       "\t \\#hurtbae                                                   & http://twitter.com/search?q=\\%23hurtbae                     & \\%23hurtbae                                                 & 4118                                                        \\\\\n",
       "\t \\#STOH2017                                                  & http://twitter.com/search?q=\\%23STOH2017                    & \\%23STOH2017                                                & 4118                                                        \\\\\n",
       "\t \\#SillyQuestionsIWantAnswered                               & http://twitter.com/search?q=\\%23SillyQuestionsIWantAnswered & \\%23SillyQuestionsIWantAnswered                             & 4118                                                        \\\\\n",
       "\\end{tabular}\n"
      ],
      "text/markdown": [
       "\n",
       "name | url | query | woeid | \n",
       "|---|---|---|---|---|---|---|---|---|---|---|---|---|---|---|---|---|---|---|---|---|---|---|---|---|---|---|---|---|---|---|---|---|---|---|---|---|---|---|---|---|---|---|---|---|---|---|---|---|---|\n",
       "| #RandomActsOfKindnessDay                                   | http://twitter.com/search?q=%23RandomActsOfKindnessDay     | %23RandomActsOfKindnessDay                                 | 4118                                                       | \n",
       "| #FamilyDay                                                 | http://twitter.com/search?q=%23FamilyDay                   | %23FamilyDay                                               | 4118                                                       | \n",
       "| #FridayFeeling                                             | http://twitter.com/search?q=%23FridayFeeling               | %23FridayFeeling                                           | 4118                                                       | \n",
       "| #NBAAllStar                                                | http://twitter.com/search?q=%23NBAAllStar                  | %23NBAAllStar                                              | 4118                                                       | \n",
       "| Nathan                                                     | http://twitter.com/search?q=Nathan                         | Nathan                                                     | 4118                                                       | \n",
       "| Mitch Marner                                               | http://twitter.com/search?q=%22Mitch+Marner%22             | %22Mitch+Marner%22                                         | 4118                                                       | \n",
       "| #TIFFNextWave                                              | http://twitter.com/search?q=%23TIFFNextWave                | %23TIFFNextWave                                            | 4118                                                       | \n",
       "| National Guard                                             | http://twitter.com/search?q=%22National+Guard%22           | %22National+Guard%22                                       | 4118                                                       | \n",
       "| The Animal                                                 | http://twitter.com/search?q=%22The+Animal%22               | %22The+Animal%22                                           | 4118                                                       | \n",
       "| Boeing                                                     | http://twitter.com/search?q=Boeing                         | Boeing                                                     | 4118                                                       | \n",
       "| Parker                                                     | http://twitter.com/search?q=Parker                         | Parker                                                     | 4118                                                       | \n",
       "| Scott Pruitt                                               | http://twitter.com/search?q=%22Scott+Pruitt%22             | %22Scott+Pruitt%22                                         | 4118                                                       | \n",
       "| Charbonneau                                                | http://twitter.com/search?q=Charbonneau                    | Charbonneau                                                | 4118                                                       | \n",
       "| Lake Scugog                                                | http://twitter.com/search?q=%22Lake+Scugog%22              | %22Lake+Scugog%22                                          | 4118                                                       | \n",
       "| Devontay Hackett                                           | http://twitter.com/search?q=%22Devontay+Hackett%22         | %22Devontay+Hackett%22                                     | 4118                                                       | \n",
       "| Moodie                                                     | http://twitter.com/search?q=Moodie                         | Moodie                                                     | 4118                                                       | \n",
       "| Province House                                             | http://twitter.com/search?q=%22Province+House%22           | %22Province+House%22                                       | 4118                                                       | \n",
       "| La Meute                                                   | http://twitter.com/search?q=%22La+Meute%22                 | %22La+Meute%22                                             | 4118                                                       | \n",
       "| Michael Jordan                                             | http://twitter.com/search?q=%22Michael+Jordan%22           | %22Michael+Jordan%22                                       | 4118                                                       | \n",
       "| Merkel                                                     | http://twitter.com/search?q=Merkel                         | Merkel                                                     | 4118                                                       | \n",
       "| Bartkowski                                                 | http://twitter.com/search?q=Bartkowski                     | Bartkowski                                                 | 4118                                                       | \n",
       "| Corner Brook                                               | http://twitter.com/search?q=%22Corner+Brook%22             | %22Corner+Brook%22                                         | 4118                                                       | \n",
       "| Sidney Crosby                                              | http://twitter.com/search?q=%22Sidney+Crosby%22            | %22Sidney+Crosby%22                                        | 4118                                                       | \n",
       "| Stuart McLean                                              | http://twitter.com/search?q=%22Stuart+McLean%22            | %22Stuart+McLean%22                                        | 4118                                                       | \n",
       "| Manning                                                    | http://twitter.com/search?q=Manning                        | Manning                                                    | 4118                                                       | \n",
       "| Gérard Bouchard                                            | http://twitter.com/search?q=%22G%C3%A9rard+Bouchard%22     | %22G%C3%A9rard+Bouchard%22                                 | 4118                                                       | \n",
       "| Flyers                                                     | http://twitter.com/search?q=Flyers                         | Flyers                                                     | 4118                                                       | \n",
       "| #DayofFacts                                                | http://twitter.com/search?q=%23DayofFacts                  | %23DayofFacts                                              | 4118                                                       | \n",
       "| #Change2LettersRuinAFilm                                   | http://twitter.com/search?q=%23Change2LettersRuinAFilm     | %23Change2LettersRuinAFilm                                 | 4118                                                       | \n",
       "| #fcledu                                                    | http://twitter.com/search?q=%23fcledu                      | %23fcledu                                                  | 4118                                                       | \n",
       "| #BadgeBC                                                   | http://twitter.com/search?q=%23BadgeBC                     | %23BadgeBC                                                 | 4118                                                       | \n",
       "| #RVNMO                                                     | http://twitter.com/search?q=%23RVNMO                       | %23RVNMO                                                   | 4118                                                       | \n",
       "| #VWAutoshow                                                | http://twitter.com/search?q=%23VWAutoshow                  | %23VWAutoshow                                              | 4118                                                       | \n",
       "| #FlashbackFriday                                           | http://twitter.com/search?q=%23FlashbackFriday             | %23FlashbackFriday                                         | 4118                                                       | \n",
       "| #friyay                                                    | http://twitter.com/search?q=%23friyay                      | %23friyay                                                  | 4118                                                       | \n",
       "| #GARTHinedmonton                                           | http://twitter.com/search?q=%23GARTHinedmonton             | %23GARTHinedmonton                                         | 4118                                                       | \n",
       "| #overdose                                                  | http://twitter.com/search?q=%23overdose                    | %23overdose                                                | 4118                                                       | \n",
       "| #Getaway                                                   | http://twitter.com/search?q=%23Getaway                     | %23Getaway                                                 | 4118                                                       | \n",
       "| #OrderOfCanada                                             | http://twitter.com/search?q=%23OrderOfCanada               | %23OrderOfCanada                                           | 4118                                                       | \n",
       "| #weekend                                                   | http://twitter.com/search?q=%23weekend                     | %23weekend                                                 | 4118                                                       | \n",
       "| #MediaLiesAgain                                            | http://twitter.com/search?q=%23MediaLiesAgain              | %23MediaLiesAgain                                          | 4118                                                       | \n",
       "| #CdnAgDay                                                  | http://twitter.com/search?q=%23CdnAgDay                    | %23CdnAgDay                                                | 4118                                                       | \n",
       "| #PresidentialTVShows                                       | http://twitter.com/search?q=%23PresidentialTVShows         | %23PresidentialTVShows                                     | 4118                                                       | \n",
       "| #TrumpPresser                                              | http://twitter.com/search?q=%23TrumpPresser                | %23TrumpPresser                                            | 4118                                                       | \n",
       "| #M103                                                      | http://twitter.com/search?q=%23M103                        | %23M103                                                    | 4118                                                       | \n",
       "| #WinterShakeUp                                             | http://twitter.com/search?q=%23WinterShakeUp               | %23WinterShakeUp                                           | 4118                                                       | \n",
       "| #PokemonGO                                                 | http://twitter.com/search?q=%23PokemonGO                   | %23PokemonGO                                               | 4118                                                       | \n",
       "| #hurtbae                                                   | http://twitter.com/search?q=%23hurtbae                     | %23hurtbae                                                 | 4118                                                       | \n",
       "| #STOH2017                                                  | http://twitter.com/search?q=%23STOH2017                    | %23STOH2017                                                | 4118                                                       | \n",
       "| #SillyQuestionsIWantAnswered                               | http://twitter.com/search?q=%23SillyQuestionsIWantAnswered | %23SillyQuestionsIWantAnswered                             | 4118                                                       | \n",
       "\n",
       "\n"
      ],
      "text/plain": [
       "   name                        \n",
       "1  #RandomActsOfKindnessDay    \n",
       "2  #FamilyDay                  \n",
       "3  #FridayFeeling              \n",
       "4  #NBAAllStar                 \n",
       "5  Nathan                      \n",
       "6  Mitch Marner                \n",
       "7  #TIFFNextWave               \n",
       "8  National Guard              \n",
       "9  The Animal                  \n",
       "10 Boeing                      \n",
       "11 Parker                      \n",
       "12 Scott Pruitt                \n",
       "13 Charbonneau                 \n",
       "14 Lake Scugog                 \n",
       "15 Devontay Hackett            \n",
       "16 Moodie                      \n",
       "17 Province House              \n",
       "18 La Meute                    \n",
       "19 Michael Jordan              \n",
       "20 Merkel                      \n",
       "21 Bartkowski                  \n",
       "22 Corner Brook                \n",
       "23 Sidney Crosby               \n",
       "24 Stuart McLean               \n",
       "25 Manning                     \n",
       "26 Gérard Bouchard             \n",
       "27 Flyers                      \n",
       "28 #DayofFacts                 \n",
       "29 #Change2LettersRuinAFilm    \n",
       "30 #fcledu                     \n",
       "31 #BadgeBC                    \n",
       "32 #RVNMO                      \n",
       "33 #VWAutoshow                 \n",
       "34 #FlashbackFriday            \n",
       "35 #friyay                     \n",
       "36 #GARTHinedmonton            \n",
       "37 #overdose                   \n",
       "38 #Getaway                    \n",
       "39 #OrderOfCanada              \n",
       "40 #weekend                    \n",
       "41 #MediaLiesAgain             \n",
       "42 #CdnAgDay                   \n",
       "43 #PresidentialTVShows        \n",
       "44 #TrumpPresser               \n",
       "45 #M103                       \n",
       "46 #WinterShakeUp              \n",
       "47 #PokemonGO                  \n",
       "48 #hurtbae                    \n",
       "49 #STOH2017                   \n",
       "50 #SillyQuestionsIWantAnswered\n",
       "   url                                                       \n",
       "1  http://twitter.com/search?q=%23RandomActsOfKindnessDay    \n",
       "2  http://twitter.com/search?q=%23FamilyDay                  \n",
       "3  http://twitter.com/search?q=%23FridayFeeling              \n",
       "4  http://twitter.com/search?q=%23NBAAllStar                 \n",
       "5  http://twitter.com/search?q=Nathan                        \n",
       "6  http://twitter.com/search?q=%22Mitch+Marner%22            \n",
       "7  http://twitter.com/search?q=%23TIFFNextWave               \n",
       "8  http://twitter.com/search?q=%22National+Guard%22          \n",
       "9  http://twitter.com/search?q=%22The+Animal%22              \n",
       "10 http://twitter.com/search?q=Boeing                        \n",
       "11 http://twitter.com/search?q=Parker                        \n",
       "12 http://twitter.com/search?q=%22Scott+Pruitt%22            \n",
       "13 http://twitter.com/search?q=Charbonneau                   \n",
       "14 http://twitter.com/search?q=%22Lake+Scugog%22             \n",
       "15 http://twitter.com/search?q=%22Devontay+Hackett%22        \n",
       "16 http://twitter.com/search?q=Moodie                        \n",
       "17 http://twitter.com/search?q=%22Province+House%22          \n",
       "18 http://twitter.com/search?q=%22La+Meute%22                \n",
       "19 http://twitter.com/search?q=%22Michael+Jordan%22          \n",
       "20 http://twitter.com/search?q=Merkel                        \n",
       "21 http://twitter.com/search?q=Bartkowski                    \n",
       "22 http://twitter.com/search?q=%22Corner+Brook%22            \n",
       "23 http://twitter.com/search?q=%22Sidney+Crosby%22           \n",
       "24 http://twitter.com/search?q=%22Stuart+McLean%22           \n",
       "25 http://twitter.com/search?q=Manning                       \n",
       "26 http://twitter.com/search?q=%22G%C3%A9rard+Bouchard%22    \n",
       "27 http://twitter.com/search?q=Flyers                        \n",
       "28 http://twitter.com/search?q=%23DayofFacts                 \n",
       "29 http://twitter.com/search?q=%23Change2LettersRuinAFilm    \n",
       "30 http://twitter.com/search?q=%23fcledu                     \n",
       "31 http://twitter.com/search?q=%23BadgeBC                    \n",
       "32 http://twitter.com/search?q=%23RVNMO                      \n",
       "33 http://twitter.com/search?q=%23VWAutoshow                 \n",
       "34 http://twitter.com/search?q=%23FlashbackFriday            \n",
       "35 http://twitter.com/search?q=%23friyay                     \n",
       "36 http://twitter.com/search?q=%23GARTHinedmonton            \n",
       "37 http://twitter.com/search?q=%23overdose                   \n",
       "38 http://twitter.com/search?q=%23Getaway                    \n",
       "39 http://twitter.com/search?q=%23OrderOfCanada              \n",
       "40 http://twitter.com/search?q=%23weekend                    \n",
       "41 http://twitter.com/search?q=%23MediaLiesAgain             \n",
       "42 http://twitter.com/search?q=%23CdnAgDay                   \n",
       "43 http://twitter.com/search?q=%23PresidentialTVShows        \n",
       "44 http://twitter.com/search?q=%23TrumpPresser               \n",
       "45 http://twitter.com/search?q=%23M103                       \n",
       "46 http://twitter.com/search?q=%23WinterShakeUp              \n",
       "47 http://twitter.com/search?q=%23PokemonGO                  \n",
       "48 http://twitter.com/search?q=%23hurtbae                    \n",
       "49 http://twitter.com/search?q=%23STOH2017                   \n",
       "50 http://twitter.com/search?q=%23SillyQuestionsIWantAnswered\n",
       "   query                          woeid\n",
       "1  %23RandomActsOfKindnessDay     4118 \n",
       "2  %23FamilyDay                   4118 \n",
       "3  %23FridayFeeling               4118 \n",
       "4  %23NBAAllStar                  4118 \n",
       "5  Nathan                         4118 \n",
       "6  %22Mitch+Marner%22             4118 \n",
       "7  %23TIFFNextWave                4118 \n",
       "8  %22National+Guard%22           4118 \n",
       "9  %22The+Animal%22               4118 \n",
       "10 Boeing                         4118 \n",
       "11 Parker                         4118 \n",
       "12 %22Scott+Pruitt%22             4118 \n",
       "13 Charbonneau                    4118 \n",
       "14 %22Lake+Scugog%22              4118 \n",
       "15 %22Devontay+Hackett%22         4118 \n",
       "16 Moodie                         4118 \n",
       "17 %22Province+House%22           4118 \n",
       "18 %22La+Meute%22                 4118 \n",
       "19 %22Michael+Jordan%22           4118 \n",
       "20 Merkel                         4118 \n",
       "21 Bartkowski                     4118 \n",
       "22 %22Corner+Brook%22             4118 \n",
       "23 %22Sidney+Crosby%22            4118 \n",
       "24 %22Stuart+McLean%22            4118 \n",
       "25 Manning                        4118 \n",
       "26 %22G%C3%A9rard+Bouchard%22     4118 \n",
       "27 Flyers                         4118 \n",
       "28 %23DayofFacts                  4118 \n",
       "29 %23Change2LettersRuinAFilm     4118 \n",
       "30 %23fcledu                      4118 \n",
       "31 %23BadgeBC                     4118 \n",
       "32 %23RVNMO                       4118 \n",
       "33 %23VWAutoshow                  4118 \n",
       "34 %23FlashbackFriday             4118 \n",
       "35 %23friyay                      4118 \n",
       "36 %23GARTHinedmonton             4118 \n",
       "37 %23overdose                    4118 \n",
       "38 %23Getaway                     4118 \n",
       "39 %23OrderOfCanada               4118 \n",
       "40 %23weekend                     4118 \n",
       "41 %23MediaLiesAgain              4118 \n",
       "42 %23CdnAgDay                    4118 \n",
       "43 %23PresidentialTVShows         4118 \n",
       "44 %23TrumpPresser                4118 \n",
       "45 %23M103                        4118 \n",
       "46 %23WinterShakeUp               4118 \n",
       "47 %23PokemonGO                   4118 \n",
       "48 %23hurtbae                     4118 \n",
       "49 %23STOH2017                    4118 \n",
       "50 %23SillyQuestionsIWantAnswered 4118 "
      ]
     },
     "metadata": {},
     "output_type": "display_data"
    }
   ],
   "source": [
    "#Get all the trends with the obtained woeid\n",
    "getTrends(woe)"
   ]
  },
  {
   "cell_type": "code",
   "execution_count": 39,
   "metadata": {
    "collapsed": false
   },
   "outputs": [],
   "source": [
    "#Store the first trend\n",
    "output <- getTrends(woe)$name[1]"
   ]
  },
  {
   "cell_type": "code",
   "execution_count": 41,
   "metadata": {
    "collapsed": true
   },
   "outputs": [],
   "source": [
    "#Iterate to get the top 10 trends\n",
    "for(i in 2:10){\n",
    "    output <- paste(output,getTrends(woe)$name[i], sep = \", \")\n",
    "}"
   ]
  },
  {
   "cell_type": "code",
   "execution_count": 42,
   "metadata": {
    "collapsed": false
   },
   "outputs": [
    {
     "name": "stdout",
     "output_type": "stream",
     "text": [
      "The top ten trends in Buffalo are: #RandomActsOfKindnessDay, #FridayFeeling, #FamilyDay, #NBAAllStar, Nathan, Mitch Marner, #TIFFNextWave, National Guard, The Animal, Boeing"
     ]
    }
   ],
   "source": [
    "#Print the top 10 trends\n",
    "cat(\"The top ten trends in\",location,\"are:\", output)"
   ]
  },
  {
   "cell_type": "code",
   "execution_count": null,
   "metadata": {
    "collapsed": true
   },
   "outputs": [],
   "source": []
  }
 ],
 "metadata": {
  "kernelspec": {
   "display_name": "R",
   "language": "R",
   "name": "ir"
  },
  "language_info": {
   "codemirror_mode": "r",
   "file_extension": ".r",
   "mimetype": "text/x-r-source",
   "name": "R",
   "pygments_lexer": "r",
   "version": "3.3.2"
  }
 },
 "nbformat": 4,
 "nbformat_minor": 2
}
